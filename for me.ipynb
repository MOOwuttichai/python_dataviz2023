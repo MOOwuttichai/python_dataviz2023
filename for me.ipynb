{
  "nbformat": 4,
  "nbformat_minor": 0,
  "metadata": {
    "colab": {
      "provenance": [],
      "authorship_tag": "ABX9TyNRXcYTzQet5syStQtnqAN6",
      "include_colab_link": true
    },
    "kernelspec": {
      "name": "python3",
      "display_name": "Python 3"
    },
    "language_info": {
      "name": "python"
    }
  },
  "cells": [
    {
      "cell_type": "markdown",
      "metadata": {
        "id": "view-in-github",
        "colab_type": "text"
      },
      "source": [
        "<a href=\"https://colab.research.google.com/github/MOOwuttichai/python_dataviz2023/blob/main/for%20me.ipynb\" target=\"_parent\"><img src=\"https://colab.research.google.com/assets/colab-badge.svg\" alt=\"Open In Colab\"/></a>"
      ]
    },
    {
      "cell_type": "markdown",
      "source": [
        "# การจัดการข้อความในการแสดงผล (Print)\n",
        "  `print(ข้อความ)` = การแสดง Output ออกมาทางหน้าจอ\n",
        "  ---------------------------------------------------------------\n",
        "## string\n",
        "### test heading 3\n",
        "`print(ข้อความ)` #ใช้ในการเน้นโค้ด"
      ],
      "metadata": {
        "id": "Zyy1bW5Xs5Bu"
      }
    },
    {
      "cell_type": "code",
      "source": [
        "print('test')"
      ],
      "metadata": {
        "colab": {
          "base_uri": "https://localhost:8080/",
          "height": 0
        },
        "id": "ZN36Lx-4tJZq",
        "outputId": "6a21831e-7508-4143-d2db-e0107be423e7"
      },
      "execution_count": 1,
      "outputs": [
        {
          "output_type": "stream",
          "name": "stdout",
          "text": [
            "test\n"
          ]
        }
      ]
    },
    {
      "cell_type": "code",
      "source": [
        "'สถิติ' # ' quote"
      ],
      "metadata": {
        "colab": {
          "base_uri": "https://localhost:8080/",
          "height": 35
        },
        "id": "diLjxqqZt5Om",
        "outputId": "4a43361b-81dd-4a55-8b94-02c24e49251a"
      },
      "execution_count": 2,
      "outputs": [
        {
          "output_type": "execute_result",
          "data": {
            "text/plain": [
              "'สถิติ'"
            ],
            "application/vnd.google.colaboratory.intrinsic+json": {
              "type": "string"
            }
          },
          "metadata": {},
          "execution_count": 2
        }
      ]
    },
    {
      "cell_type": "code",
      "source": [
        "\"สถิติ\" # \" double quote"
      ],
      "metadata": {
        "colab": {
          "base_uri": "https://localhost:8080/",
          "height": 35
        },
        "id": "x4Zhkvalt7qt",
        "outputId": "6a85ef7d-b8be-43e5-def3-917a3b4b5efe"
      },
      "execution_count": 3,
      "outputs": [
        {
          "output_type": "execute_result",
          "data": {
            "text/plain": [
              "'สถิติ'"
            ],
            "application/vnd.google.colaboratory.intrinsic+json": {
              "type": "string"
            }
          },
          "metadata": {},
          "execution_count": 3
        }
      ]
    },
    {
      "cell_type": "markdown",
      "source": [
        "## ' เเละ \" เปิดด้วยตัวไหนปิดด้วยตัวนั้น ซึ่งใช่เเสดงถึง ว่าคำหรือตัวเลขนั้นคือ ข้อความ"
      ],
      "metadata": {
        "id": "s1CPHeYuuOoG"
      }
    },
    {
      "cell_type": "markdown",
      "source": [
        "**ผลการรันแสดงออกมา ได้ 2 แบบ\n",
        "ถ้าไม่มีตัวแปรมารับ ก็จะแสดงผลออกที่หน้าจอ\n",
        "ถ้ามีตัวแปรมารับ ผลการรันก็จะไปอยู่ในตัวแปร**"
      ],
      "metadata": {
        "id": "zmjtpLjcuo5k"
      }
    },
    {
      "cell_type": "markdown",
      "source": [
        "### EX"
      ],
      "metadata": {
        "id": "MePv3oievIOv"
      }
    },
    {
      "cell_type": "code",
      "source": [
        "1+3 # ไม่มีตัวแปรมารับ_ตัวเลขบวกตัวเลขได้เลย"
      ],
      "metadata": {
        "colab": {
          "base_uri": "https://localhost:8080/",
          "height": 0
        },
        "id": "SLsVcsiKuuLO",
        "outputId": "1f3291a3-5b82-4b9b-e056-c64e960eeaa2"
      },
      "execution_count": 4,
      "outputs": [
        {
          "output_type": "execute_result",
          "data": {
            "text/plain": [
              "4"
            ]
          },
          "metadata": {},
          "execution_count": 4
        }
      ]
    },
    {
      "cell_type": "code",
      "source": [
        "a = 1+3 #มีตัวแปรมารับ ในที่นี้คือ a มารับผลการบวก"
      ],
      "metadata": {
        "id": "JBDvwjBqu2Lt"
      },
      "execution_count": 5,
      "outputs": []
    },
    {
      "cell_type": "code",
      "source": [
        "print(a)"
      ],
      "metadata": {
        "colab": {
          "base_uri": "https://localhost:8080/",
          "height": 0
        },
        "id": "5qSKfoHOu9hm",
        "outputId": "c790e903-e651-4ad1-e476-39cb879f5b2d"
      },
      "execution_count": 6,
      "outputs": [
        {
          "output_type": "stream",
          "name": "stdout",
          "text": [
            "4\n"
          ]
        }
      ]
    },
    {
      "cell_type": "code",
      "source": [
        "1-3"
      ],
      "metadata": {
        "colab": {
          "base_uri": "https://localhost:8080/",
          "height": 0
        },
        "id": "TaaI6YvyvHE-",
        "outputId": "313d9f66-f1b9-443e-80c0-fb03ff85e309"
      },
      "execution_count": 8,
      "outputs": [
        {
          "output_type": "execute_result",
          "data": {
            "text/plain": [
              "-2"
            ]
          },
          "metadata": {},
          "execution_count": 8
        }
      ]
    },
    {
      "cell_type": "code",
      "source": [
        "'1'+'3' # string +string คือการต่อ string"
      ],
      "metadata": {
        "colab": {
          "base_uri": "https://localhost:8080/",
          "height": 35
        },
        "id": "9BdR8xBavCqf",
        "outputId": "b69c0cad-c367-4168-97d6-97b5cff4b9ab"
      },
      "execution_count": 7,
      "outputs": [
        {
          "output_type": "execute_result",
          "data": {
            "text/plain": [
              "'13'"
            ],
            "application/vnd.google.colaboratory.intrinsic+json": {
              "type": "string"
            }
          },
          "metadata": {},
          "execution_count": 7
        }
      ]
    },
    {
      "cell_type": "code",
      "source": [
        "1'-'3' # string -string  ทำไม่ได้"
      ],
      "metadata": {
        "colab": {
          "base_uri": "https://localhost:8080/",
          "height": 130
        },
        "id": "czy4sCFLvRoU",
        "outputId": "1b58d4d2-5864-44cc-f19e-89eacd78afa2"
      },
      "execution_count": 9,
      "outputs": [
        {
          "output_type": "error",
          "ename": "SyntaxError",
          "evalue": "ignored",
          "traceback": [
            "\u001b[0;36m  File \u001b[0;32m\"<ipython-input-9-561745f92184>\"\u001b[0;36m, line \u001b[0;32m1\u001b[0m\n\u001b[0;31m    1'-'3' # string -string  ทำไม่ได้\u001b[0m\n\u001b[0m         ^\u001b[0m\n\u001b[0;31mSyntaxError\u001b[0m\u001b[0;31m:\u001b[0m unterminated string literal (detected at line 1)\n"
          ]
        }
      ]
    },
    {
      "cell_type": "markdown",
      "source": [
        "## Syntax print\n",
        "\n",
        "print(object(s), sep=separator, end=end, file=file, flush=flush)"
      ],
      "metadata": {
        "id": "N7kTlbxfvkCV"
      }
    },
    {
      "cell_type": "markdown",
      "source": [
        "EX"
      ],
      "metadata": {
        "id": "Fi8vTVTdwD49"
      }
    },
    {
      "cell_type": "code",
      "source": [
        "print('a','b',sep='//')"
      ],
      "metadata": {
        "colab": {
          "base_uri": "https://localhost:8080/"
        },
        "id": "4j4oZyiiwjkd",
        "outputId": "c340c5c2-4cc8-4e6c-fdb7-21fff374d010"
      },
      "execution_count": 10,
      "outputs": [
        {
          "output_type": "stream",
          "name": "stdout",
          "text": [
            "a//b\n"
          ]
        }
      ]
    },
    {
      "cell_type": "code",
      "source": [
        "print('stat','สถิติ',sep='')"
      ],
      "metadata": {
        "colab": {
          "base_uri": "https://localhost:8080/"
        },
        "id": "KjIt-DRqwoj1",
        "outputId": "05d6709b-daef-48ac-875a-0aa11e213ddd"
      },
      "execution_count": 11,
      "outputs": [
        {
          "output_type": "stream",
          "name": "stdout",
          "text": [
            "statสถิติ\n"
          ]
        }
      ]
    }
  ]
}