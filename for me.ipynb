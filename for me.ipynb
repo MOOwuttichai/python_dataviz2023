{
  "nbformat": 4,
  "nbformat_minor": 0,
  "metadata": {
    "colab": {
      "provenance": [],
      "toc_visible": true,
      "authorship_tag": "ABX9TyOJPd9kr2rVnABDr4ZsvTDb",
      "include_colab_link": true
    },
    "kernelspec": {
      "name": "python3",
      "display_name": "Python 3"
    },
    "language_info": {
      "name": "python"
    }
  },
  "cells": [
    {
      "cell_type": "markdown",
      "metadata": {
        "id": "view-in-github",
        "colab_type": "text"
      },
      "source": [
        "<a href=\"https://colab.research.google.com/github/MOOwuttichai/python_dataviz2023/blob/main/for%20me.ipynb\" target=\"_parent\"><img src=\"https://colab.research.google.com/assets/colab-badge.svg\" alt=\"Open In Colab\"/></a>"
      ]
    },
    {
      "cell_type": "markdown",
      "source": [
        "# การจัดการข้อความในการแสดงผล (Print)\n",
        "  `print(ข้อความ)` = การแสดง Output ออกมาทางหน้าจอ\n",
        "  ---------------------------------------------------------------\n",
        "## string\n",
        "`print(ข้อความ)` #ใช้ในการเน้นโค้ด"
      ],
      "metadata": {
        "id": "Zyy1bW5Xs5Bu"
      }
    },
    {
      "cell_type": "code",
      "source": [
        "print('test')"
      ],
      "metadata": {
        "colab": {
          "base_uri": "https://localhost:8080/",
          "height": 0
        },
        "id": "ZN36Lx-4tJZq",
        "outputId": "6a21831e-7508-4143-d2db-e0107be423e7"
      },
      "execution_count": 1,
      "outputs": [
        {
          "output_type": "stream",
          "name": "stdout",
          "text": [
            "test\n"
          ]
        }
      ]
    },
    {
      "cell_type": "code",
      "source": [
        "'สถิติ' # ' quote"
      ],
      "metadata": {
        "colab": {
          "base_uri": "https://localhost:8080/",
          "height": 35
        },
        "id": "diLjxqqZt5Om",
        "outputId": "4a43361b-81dd-4a55-8b94-02c24e49251a"
      },
      "execution_count": 2,
      "outputs": [
        {
          "output_type": "execute_result",
          "data": {
            "text/plain": [
              "'สถิติ'"
            ],
            "application/vnd.google.colaboratory.intrinsic+json": {
              "type": "string"
            }
          },
          "metadata": {},
          "execution_count": 2
        }
      ]
    },
    {
      "cell_type": "code",
      "source": [
        "\"สถิติ\" # \" double quote"
      ],
      "metadata": {
        "colab": {
          "base_uri": "https://localhost:8080/",
          "height": 35
        },
        "id": "x4Zhkvalt7qt",
        "outputId": "6a85ef7d-b8be-43e5-def3-917a3b4b5efe"
      },
      "execution_count": 3,
      "outputs": [
        {
          "output_type": "execute_result",
          "data": {
            "text/plain": [
              "'สถิติ'"
            ],
            "application/vnd.google.colaboratory.intrinsic+json": {
              "type": "string"
            }
          },
          "metadata": {},
          "execution_count": 3
        }
      ]
    },
    {
      "cell_type": "markdown",
      "source": [
        "' เเละ \" เปิดด้วยตัวไหนปิดด้วยตัวนั้น ซึ่งใช่เเสดงถึง ว่าคำหรือตัวเลขนั้นคือ ข้อความ"
      ],
      "metadata": {
        "id": "s1CPHeYuuOoG"
      }
    },
    {
      "cell_type": "markdown",
      "source": [
        "## การแสดงผลรัน\n",
        "ออกมา ได้ 2 แบบถ้าไม่มีตัวแปรมารับ ก็จะแสดงผลออกที่หน้าจอ\n",
        "ถ้ามีตัวแปรมารับ ผลการรันก็จะไปอยู่ในตัวแปร"
      ],
      "metadata": {
        "id": "zmjtpLjcuo5k"
      }
    },
    {
      "cell_type": "markdown",
      "source": [
        "### EX"
      ],
      "metadata": {
        "id": "MePv3oievIOv"
      }
    },
    {
      "cell_type": "code",
      "source": [
        "1+3 # ไม่มีตัวแปรมารับ_ตัวเลขบวกตัวเลขได้เลย"
      ],
      "metadata": {
        "colab": {
          "base_uri": "https://localhost:8080/",
          "height": 0
        },
        "id": "SLsVcsiKuuLO",
        "outputId": "1f3291a3-5b82-4b9b-e056-c64e960eeaa2"
      },
      "execution_count": 4,
      "outputs": [
        {
          "output_type": "execute_result",
          "data": {
            "text/plain": [
              "4"
            ]
          },
          "metadata": {},
          "execution_count": 4
        }
      ]
    },
    {
      "cell_type": "code",
      "source": [
        "a = 1+3 #มีตัวแปรมารับ ในที่นี้คือ a มารับผลการบวก"
      ],
      "metadata": {
        "id": "JBDvwjBqu2Lt"
      },
      "execution_count": 5,
      "outputs": []
    },
    {
      "cell_type": "code",
      "source": [
        "print(a)"
      ],
      "metadata": {
        "colab": {
          "base_uri": "https://localhost:8080/",
          "height": 0
        },
        "id": "5qSKfoHOu9hm",
        "outputId": "c790e903-e651-4ad1-e476-39cb879f5b2d"
      },
      "execution_count": 6,
      "outputs": [
        {
          "output_type": "stream",
          "name": "stdout",
          "text": [
            "4\n"
          ]
        }
      ]
    },
    {
      "cell_type": "code",
      "source": [
        "1-3"
      ],
      "metadata": {
        "colab": {
          "base_uri": "https://localhost:8080/",
          "height": 0
        },
        "id": "TaaI6YvyvHE-",
        "outputId": "313d9f66-f1b9-443e-80c0-fb03ff85e309"
      },
      "execution_count": 8,
      "outputs": [
        {
          "output_type": "execute_result",
          "data": {
            "text/plain": [
              "-2"
            ]
          },
          "metadata": {},
          "execution_count": 8
        }
      ]
    },
    {
      "cell_type": "markdown",
      "source": [
        "## Syntax print\n",
        "\n",
        "print(object(s), sep=separator, end=end, file=file, flush=flush)"
      ],
      "metadata": {
        "id": "N7kTlbxfvkCV"
      }
    },
    {
      "cell_type": "markdown",
      "source": [
        "### EX 1 sep เเสดงตัวคั่นระหว่างคำ (พื้นฐานเป็นช่องว่างหนึ่งช่อง)"
      ],
      "metadata": {
        "id": "Fi8vTVTdwD49"
      }
    },
    {
      "cell_type": "code",
      "source": [
        "print('a','b',sep='//') # ทำให้ตัวคั่นระหว่าง คำเป็น //"
      ],
      "metadata": {
        "colab": {
          "base_uri": "https://localhost:8080/"
        },
        "id": "4j4oZyiiwjkd",
        "outputId": "c340c5c2-4cc8-4e6c-fdb7-21fff374d010"
      },
      "execution_count": 10,
      "outputs": [
        {
          "output_type": "stream",
          "name": "stdout",
          "text": [
            "a//b\n"
          ]
        }
      ]
    },
    {
      "cell_type": "code",
      "source": [
        "print('stat','สถิติ',sep='') # ทำให้ตัวคั่นระหว่าง คำเป็น ไม่มี(NULL ไม่มีช่องว่าง)"
      ],
      "metadata": {
        "colab": {
          "base_uri": "https://localhost:8080/"
        },
        "id": "KjIt-DRqwoj1",
        "outputId": "05d6709b-daef-48ac-875a-0aa11e213ddd"
      },
      "execution_count": 11,
      "outputs": [
        {
          "output_type": "stream",
          "name": "stdout",
          "text": [
            "statสถิติ\n"
          ]
        }
      ]
    },
    {
      "cell_type": "markdown",
      "source": [
        "### EX 2 end ให้เเสดงว่าตัวจบเป็นอะไร (พื้นฐานเป็น \\n หรือ จบบรรทัด)"
      ],
      "metadata": {
        "id": "yDA2LJqHyAsf"
      }
    },
    {
      "cell_type": "code",
      "source": [
        "print('stat')\n",
        "print('sids') # จบโดยเเยกบรรทัด\n",
        "#---------------------------\n",
        "print('stat',end=', ') # จบโดยเเสดง ', '\n",
        "print('sids')"
      ],
      "metadata": {
        "colab": {
          "base_uri": "https://localhost:8080/"
        },
        "id": "_Ew4-kS8xx0G",
        "outputId": "252391da-2389-4ba6-c2f3-e297b4c9d4a4"
      },
      "execution_count": 12,
      "outputs": [
        {
          "output_type": "stream",
          "name": "stdout",
          "text": [
            "stat\n",
            "sids\n",
            "stat, sids\n"
          ]
        }
      ]
    },
    {
      "cell_type": "markdown",
      "source": [
        "## ชนิดของตัวแปร (variables)"
      ],
      "metadata": {
        "id": "v75WUcao0T8m"
      }
    },
    {
      "cell_type": "markdown",
      "source": [
        "opration for num"
      ],
      "metadata": {
        "id": "3xlMBHkM3q5m"
      }
    },
    {
      "cell_type": "markdown",
      "source": [
        "### คำสั่ง + - * /"
      ],
      "metadata": {
        "id": "cVsfklZL1iQY"
      }
    },
    {
      "cell_type": "code",
      "source": [
        "a = 12\n",
        "b = 4"
      ],
      "metadata": {
        "id": "1Jpx7kUU0TqH"
      },
      "execution_count": 18,
      "outputs": []
    },
    {
      "cell_type": "code",
      "source": [
        "c = a/b\n",
        "d = a+b\n",
        "e = a-b\n",
        "l = a*b\n",
        "print (c,d,e,l)"
      ],
      "metadata": {
        "colab": {
          "base_uri": "https://localhost:8080/"
        },
        "id": "enfcMvFa1Dln",
        "outputId": "dbcaa641-0b83-4d15-d01e-28998e84f275"
      },
      "execution_count": 16,
      "outputs": [
        {
          "output_type": "stream",
          "name": "stdout",
          "text": [
            "3.0 16 8 48\n"
          ]
        }
      ]
    },
    {
      "cell_type": "markdown",
      "source": [
        "### modulo(%) หารเอาเศษไม่เอาส่วน"
      ],
      "metadata": {
        "id": "vVKq23b11LFW"
      }
    },
    {
      "cell_type": "code",
      "source": [
        "7%4\n"
      ],
      "metadata": {
        "colab": {
          "base_uri": "https://localhost:8080/"
        },
        "id": "KoP7HLz71R9e",
        "outputId": "4c5085e5-7275-4803-ad3c-142c7a3b0929"
      },
      "execution_count": 15,
      "outputs": [
        {
          "output_type": "execute_result",
          "data": {
            "text/plain": [
              "3"
            ]
          },
          "metadata": {},
          "execution_count": 15
        }
      ]
    },
    {
      "cell_type": "markdown",
      "source": [
        "### ยกกำลัง **"
      ],
      "metadata": {
        "id": "Sh4hBdg21qI3"
      }
    },
    {
      "cell_type": "code",
      "source": [
        "2**10"
      ],
      "metadata": {
        "colab": {
          "base_uri": "https://localhost:8080/"
        },
        "id": "XBG_jJMK1T6n",
        "outputId": "97d952d8-1cf1-42f4-89c9-77d608f8616f"
      },
      "execution_count": 17,
      "outputs": [
        {
          "output_type": "execute_result",
          "data": {
            "text/plain": [
              "1024"
            ]
          },
          "metadata": {},
          "execution_count": 17
        }
      ]
    },
    {
      "cell_type": "markdown",
      "source": [
        "### string หรือ ข้อความ\n",
        "จะเเสดงผ่าน (```'L'```) & (```\"L\"```)"
      ],
      "metadata": {
        "id": "myZ3OC_x2KS2"
      }
    },
    {
      "cell_type": "markdown",
      "source": [
        "opration for string"
      ],
      "metadata": {
        "id": "nHNpDBuC3jMg"
      }
    },
    {
      "cell_type": "code",
      "source": [
        "'1'+'3' # string +string คือการต่อ string"
      ],
      "metadata": {
        "colab": {
          "base_uri": "https://localhost:8080/",
          "height": 35
        },
        "id": "9BdR8xBavCqf",
        "outputId": "b69c0cad-c367-4168-97d6-97b5cff4b9ab"
      },
      "execution_count": 7,
      "outputs": [
        {
          "output_type": "execute_result",
          "data": {
            "text/plain": [
              "'13'"
            ],
            "application/vnd.google.colaboratory.intrinsic+json": {
              "type": "string"
            }
          },
          "metadata": {},
          "execution_count": 7
        }
      ]
    },
    {
      "cell_type": "code",
      "source": [
        "1'-'3' # string -string  ทำไม่ได้"
      ],
      "metadata": {
        "colab": {
          "base_uri": "https://localhost:8080/",
          "height": 130
        },
        "id": "czy4sCFLvRoU",
        "outputId": "1b58d4d2-5864-44cc-f19e-89eacd78afa2"
      },
      "execution_count": 9,
      "outputs": [
        {
          "output_type": "error",
          "ename": "SyntaxError",
          "evalue": "ignored",
          "traceback": [
            "\u001b[0;36m  File \u001b[0;32m\"<ipython-input-9-561745f92184>\"\u001b[0;36m, line \u001b[0;32m1\u001b[0m\n\u001b[0;31m    1'-'3' # string -string  ทำไม่ได้\u001b[0m\n\u001b[0m         ^\u001b[0m\n\u001b[0;31mSyntaxError\u001b[0m\u001b[0;31m:\u001b[0m unterminated string literal (detected at line 1)\n"
          ]
        }
      ]
    },
    {
      "cell_type": "code",
      "source": [
        "'1'*6 # ให้ string พิมพ์ตามจำนวนตัวเลข"
      ],
      "metadata": {
        "colab": {
          "base_uri": "https://localhost:8080/",
          "height": 35
        },
        "id": "h1F0hq9B34Ke",
        "outputId": "d416154d-43a2-487f-d861-3510216d077a"
      },
      "execution_count": 22,
      "outputs": [
        {
          "output_type": "execute_result",
          "data": {
            "text/plain": [
              "'111111'"
            ],
            "application/vnd.google.colaboratory.intrinsic+json": {
              "type": "string"
            }
          },
          "metadata": {},
          "execution_count": 22
        }
      ]
    },
    {
      "cell_type": "markdown",
      "source": [
        "# quiz 1\n",
        "pring มาก ที่มี ก 100ตัว"
      ],
      "metadata": {
        "id": "kFTXenQf5JNA"
      }
    },
    {
      "cell_type": "code",
      "source": [
        "'มา'+('ก' *100)"
      ],
      "metadata": {
        "colab": {
          "base_uri": "https://localhost:8080/",
          "height": 35
        },
        "id": "RmUgbR9D4SPP",
        "outputId": "dee4e318-1cc0-4d95-c4e5-80330fe75c3a"
      },
      "execution_count": 25,
      "outputs": [
        {
          "output_type": "execute_result",
          "data": {
            "text/plain": [
              "'มากกกกกกกกกกกกกกกกกกกกกกกกกกกกกกกกกกกกกกกกกกกกกกกกกกกกกกกกกกกกกกกกกกกกกกกกกกกกกกกกกกกกกกกกกกกกกกกกกกกก'"
            ],
            "application/vnd.google.colaboratory.intrinsic+json": {
              "type": "string"
            }
          },
          "metadata": {},
          "execution_count": 25
        }
      ]
    }
  ]
}