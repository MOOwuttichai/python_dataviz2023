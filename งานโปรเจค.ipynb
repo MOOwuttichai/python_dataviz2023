{
  "nbformat": 4,
  "nbformat_minor": 0,
  "metadata": {
    "colab": {
      "provenance": [],
      "authorship_tag": "ABX9TyPCws8DZxfrtGqOO4fqArGG",
      "include_colab_link": true
    },
    "kernelspec": {
      "name": "python3",
      "display_name": "Python 3"
    },
    "language_info": {
      "name": "python"
    }
  },
  "cells": [
    {
      "cell_type": "markdown",
      "metadata": {
        "id": "view-in-github",
        "colab_type": "text"
      },
      "source": [
        "<a href=\"https://colab.research.google.com/github/MOOwuttichai/python_dataviz2023/blob/main/%E0%B8%87%E0%B8%B2%E0%B8%99%E0%B9%82%E0%B8%9B%E0%B8%A3%E0%B9%80%E0%B8%88%E0%B8%84.ipynb\" target=\"_parent\"><img src=\"https://colab.research.google.com/assets/colab-badge.svg\" alt=\"Open In Colab\"/></a>"
      ]
    },
    {
      "cell_type": "markdown",
      "source": [
        "#งานโปรเจค\n",
        "\n",
        "\n",
        "สมาชิกกลุ่ม\n",
        "*   List item\n",
        "*   List item\n",
        "*   List item\n",
        "*   List item\n",
        "*   List item\n",
        "*   List item\n",
        "\n"
      ],
      "metadata": {
        "id": "mQw_otj3P_ep"
      }
    },
    {
      "cell_type": "markdown",
      "source": [
        "#หัวข้อที่สนใจ\n",
        "1. แต่ละจังหวัดเลือกพรรคอะไรมากที่สุด\n",
        "2. แต่ละเขตของขอนแก่นเลือกพรรคอะไรมากที่สุด\n",
        "3. จากผู้มีสิทธิ์เลือกตั้งของจังหวัดขอนแก่นมีผู้มาใช้สิทธิทั้งหมดกี่คน คิดเป็นทั้งหมดกี่%\n",
        "4. ทั่วทั้งประเทศพรรคที่ได้คะแนนเสียงมากที่สุด 5 อันดับแรก\n",
        "5. ทั่วทั้งขอนแก่นพรรคที่ได้คะแนนเสียงมากที่สุด 5 อันดับแรก"
      ],
      "metadata": {
        "id": "Ap2KbBgeQrZS"
      }
    },
    {
      "cell_type": "markdown",
      "source": [
        "#เตรียมข้อมูล"
      ],
      "metadata": {
        "id": "gSnMQLchQ9vk"
      }
    },
    {
      "cell_type": "code",
      "source": [
        "from google.colab import drive # เชื่อมบัญชีกับ google drive\n",
        "drive.mount('/content/drive') # เช็คว่าเชื่อมติดหรือไม่"
      ],
      "metadata": {
        "id": "fKGXpiPybxDg"
      },
      "execution_count": null,
      "outputs": []
    },
    {
      "cell_type": "markdown",
      "source": [
        "1.แต่ละจังหวัดเลือกพรรคอะไรมากที่สุด"
      ],
      "metadata": {
        "id": "ZiflNy74Q86M"
      }
    },
    {
      "cell_type": "code",
      "execution_count": null,
      "metadata": {
        "id": "Y805im7DP-pY"
      },
      "outputs": [],
      "source": []
    }
  ]
}